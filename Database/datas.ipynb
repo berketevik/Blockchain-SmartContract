{
 "metadata": {
  "language_info": {
   "codemirror_mode": {
    "name": "ipython",
    "version": 3
   },
   "file_extension": ".py",
   "mimetype": "text/x-python",
   "name": "python",
   "nbconvert_exporter": "python",
   "pygments_lexer": "ipython3",
   "version": "3.9.0-final"
  },
  "orig_nbformat": 2,
  "kernelspec": {
   "name": "python3",
   "display_name": "Python 3",
   "language": "python"
  }
 },
 "nbformat": 4,
 "nbformat_minor": 2,
 "cells": [
  {
   "cell_type": "code",
   "execution_count": 1,
   "metadata": {},
   "outputs": [],
   "source": [
    "#PRINT FUNCTION\n",
    "def printResults(records):\n",
    "    print('\\t'.join([str(r).ljust(15) for r in records[0].keys()]))\n",
    "    for record in records:\n",
    "        print('\\t'.join([str(r).ljust(15) for r in record.values()]))"
   ]
  },
  {
   "cell_type": "code",
   "execution_count": 2,
   "metadata": {},
   "outputs": [],
   "source": [
    "#CONNECTING SQL SERVER\n",
    "import pymysql.cursors\n",
    "connection = pymysql.connect(host='localhost',\n",
    "                             user='root',\n",
    "                             password='',\n",
    "                             cursorclass=pymysql.cursors.DictCursor)"
   ]
  },
  {
   "cell_type": "code",
   "execution_count": 3,
   "metadata": {},
   "outputs": [
    {
     "output_type": "stream",
     "name": "stdout",
     "text": [
      "room_ID        \troom_price     \troom_info      \tavailable_date \n1              \t2              \tSingle         \t2020-06-15     \n2              \t4              \tDouble         \t2020-01-17     \n3              \t6              \tDeluxe         \t2020-09-05     \n4              \t8              \tKingSuit       \t2020-12-31     \n5              \t10             \tPASHA          \t2021-06-18     \n"
     ]
    }
   ],
   "source": [
    "#printing all values\n",
    "with connection.cursor() as cursor:\n",
    "    cursor.execute(\"use hotel\")\n",
    "    cursor.execute(\"select * from room\")\n",
    "    result=cursor.fetchall()\n",
    "printResults(result)\n"
   ]
  }
 ]
}